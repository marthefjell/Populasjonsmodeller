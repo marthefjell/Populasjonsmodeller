{
 "cells": [
  {
   "cell_type": "markdown",
   "metadata": {},
   "source": [
    "# Populasjonsmodeller:\n",
    "### Modell 1 Ubegrenset vekst:\n",
    "#### 1. \n",
    "$ K'(t)= k * K(t)$, der $k = 0.05$\n",
    "Vi kan bruke denne modellen fordi endringen mellom to punkter som står veldig nære hverandre er det samme som det forrige tidssteget ganget med en vekstfaktor k.\n",
    "\n",
    "#### 2.\n",
    "Initialbetingelsen er mengden kaniner ved tidssteg 0, som er 100.\n",
    "$ K(0)=100$\n",
    "\n",
    "#### 3.\n",
    "Yay"
   ]
  },
  {
   "cell_type": "code",
   "execution_count": 117,
   "metadata": {},
   "outputs": [
    {
     "data": {
      "text/plain": [
       "[<matplotlib.lines.Line2D at 0x14435a668>]"
      ]
     },
     "execution_count": 117,
     "metadata": {},
     "output_type": "execute_result"
    },
    {
     "data": {
      "image/png": "[encoded data removed]",
      "text/plain": [
       "<Figure size 432x288 with 1 Axes>"
      ]
     },
     "metadata": {},
     "output_type": "display_data"
    }
   ],
   "source": [
    "from pylab import *\n",
    "\n",
    "K0 = 100\n",
    "K = K0\n",
    "k = 0.05\n",
    "t0 = 0\n",
    "\n",
    "# Tidssteg:\n",
    "N = 100000\n",
    "tid = 12\n",
    "dt = tid/(N-1)\n",
    "\n",
    "# Matriser:\n",
    "K = zeros(N)\n",
    "t = zeros(N)\n",
    "Kder = zeros(N)\n",
    "t[0] = t0\n",
    "K[0] = K0\n",
    "\n",
    "for i in range(N-1):\n",
    "    Kder[i] = k*K[i]\n",
    "    K[i+1] = K[i]+Kder[i]*dt\n",
    "    t[i+1]=t[i]+dt\n",
    "\n",
    "plot(t,K)\n"
   ]
  },
  {
   "cell_type": "markdown",
   "metadata": {},
   "source": [
    "#### 4.\n",
    "Fra grafen i oppgaven over så ser vi at det er en høy eksponentiell vekst.\n",
    "\n",
    "#### 5.\n",
    "Grafen med forskjellige initialbetingelser:"
   ]
  },
  {
   "cell_type": "code",
   "execution_count": 118,
   "metadata": {},
   "outputs": [
    {
     "data": {
      "text/plain": [
       "[<matplotlib.lines.Line2D at 0x14459ef60>]"
      ]
     },
     "execution_count": 118,
     "metadata": {},
     "output_type": "execute_result"
    },
    {
     "data": {
      "image/png": "[encoded data removed]",
      "text/plain": [
       "<Figure size 432x288 with 1 Axes>"
      ]
     },
     "metadata": {},
     "output_type": "display_data"
    }
   ],
   "source": [
    "from pylab import *\n",
    "\n",
    "K0 = 2\n",
    "K = K0\n",
    "k = 0.05\n",
    "t0 = 0\n",
    "\n",
    "# Tidssteg:\n",
    "N = 100000\n",
    "tid = 12\n",
    "dt = tid/(N-1)\n",
    "\n",
    "# Matriser:\n",
    "K = zeros(N)\n",
    "t = zeros(N)\n",
    "Kder = zeros(N)\n",
    "t[0] = t0\n",
    "K[0] = K0\n",
    "\n",
    "for i in range(N-1):\n",
    "    Kder[i] = k*K[i]\n",
    "    K[i+1] = K[i]+Kder[i]*dt\n",
    "    t[i+1]=t[i]+dt\n",
    "\n",
    "plot(t,K)\n",
    "\n",
    "K0 = 5\n",
    "K = K0\n",
    "k = 0.05\n",
    "t0 = 0\n",
    "\n",
    "# Tidssteg:\n",
    "N = 100000\n",
    "tid = 12\n",
    "dt = tid/(N-1)\n",
    "\n",
    "# Matriser:\n",
    "K = zeros(N)\n",
    "t = zeros(N)\n",
    "Kder = zeros(N)\n",
    "t[0] = t0\n",
    "K[0] = K0\n",
    "\n",
    "for i in range(N-1):\n",
    "    Kder[i] = k*K[i]\n",
    "    K[i+1] = K[i]+Kder[i]*dt\n",
    "    t[i+1]=t[i]+dt\n",
    "\n",
    "plot(t,K)\n",
    "\n",
    "K0 = 200\n",
    "K = K0\n",
    "k = 0.05\n",
    "t0 = 0\n",
    "\n",
    "# Tidssteg:\n",
    "N = 100000\n",
    "tid = 12\n",
    "dt = tid/(N-1)\n",
    "\n",
    "# Matriser:\n",
    "K = zeros(N)\n",
    "t = zeros(N)\n",
    "Kder = zeros(N)\n",
    "t[0] = t0\n",
    "K[0] = K0\n",
    "\n",
    "for i in range(N-1):\n",
    "    Kder[i] = k*K[i]\n",
    "    K[i+1] = K[i]+Kder[i]*dt\n",
    "    t[i+1]=t[i]+dt\n",
    "\n",
    "plot(t,K)"
   ]
  },
  {
   "cell_type": "markdown",
   "metadata": {},
   "source": [
    "#### 6.\n",
    "k i denne funksjoenen står for formeringsraten til kaninene. En realistisk k for kaniner er 0,45. Et par kaniner kan på et år bli til 1300 kaniner. (hvis man ser bort i fra at ingen av kaninene dør)."
   ]
  },
  {
   "cell_type": "code",
   "execution_count": 119,
   "metadata": {},
   "outputs": [
    {
     "data": {
      "text/plain": [
       "[<matplotlib.lines.Line2D at 0x1459814e0>]"
      ]
     },
     "execution_count": 119,
     "metadata": {},
     "output_type": "execute_result"
    },
    {
     "data": {
      "image/png": "[encoded data removed]",
      "text/plain": [
       "<Figure size 432x288 with 1 Axes>"
      ]
     },
     "metadata": {},
     "output_type": "display_data"
    }
   ],
   "source": [
    "from pylab import *\n",
    "\n",
    "K0 = 2\n",
    "K = K0\n",
    "k = 0.54\n",
    "t0 = 0\n",
    "\n",
    "# Tidssteg:\n",
    "N = 100000\n",
    "tid = 12\n",
    "dt = tid/(N-1)\n",
    "\n",
    "# Matriser:\n",
    "K = zeros(N)\n",
    "t = zeros(N)\n",
    "Kder = zeros(N)\n",
    "t[0] = t0\n",
    "K[0] = K0\n",
    "\n",
    "for i in range(N-1):\n",
    "    Kder[i] = k*K[i]\n",
    "    K[i+1] = K[i]+Kder[i]*dt\n",
    "    t[i+1]=t[i]+dt\n",
    "\n",
    "plot(t,K)"
   ]
  },
  {
   "cell_type": "markdown",
   "metadata": {},
   "source": [
    "#### 7.\n",
    "Med en formeringsrate på 50% så vil det være *mange* flere kaniner etter 12 måneder enn med en formeringsrate på 10%."
   ]
  },
  {
   "cell_type": "code",
   "execution_count": 120,
   "metadata": {},
   "outputs": [
    {
     "data": {
      "text/plain": [
       "[<matplotlib.lines.Line2D at 0x14605bf60>]"
      ]
     },
     "execution_count": 120,
     "metadata": {},
     "output_type": "execute_result"
    },
    {
     "data": {
      "image/png": "[encoded data removed]",
      "text/plain": [
       "<Figure size 432x288 with 1 Axes>"
      ]
     },
     "metadata": {},
     "output_type": "display_data"
    }
   ],
   "source": [
    "from pylab import *\n",
    "\n",
    "K0 = 100\n",
    "K = K0\n",
    "k = 0.1\n",
    "t0 = 0\n",
    "\n",
    "# Tidssteg:\n",
    "N = 100000\n",
    "tid = 12\n",
    "dt = tid/(N-1)\n",
    "\n",
    "# Matriser:\n",
    "K = zeros(N)\n",
    "t = zeros(N)\n",
    "Kder = zeros(N)\n",
    "t[0] = t0\n",
    "K[0] = K0\n",
    "\n",
    "for i in range(N-1):\n",
    "    Kder[i] = k*K[i]\n",
    "    K[i+1] = K[i]+Kder[i]*dt\n",
    "    t[i+1]=t[i]+dt\n",
    "\n",
    "plot(t,K)\n",
    "\n",
    "K0 = 100\n",
    "K = K0\n",
    "k = 0.5\n",
    "t0 = 0\n",
    "\n",
    "# Tidssteg:\n",
    "N = 100000\n",
    "tid = 12\n",
    "dt = tid/(N-1)\n",
    "\n",
    "# Matriser:\n",
    "K = zeros(N)\n",
    "t = zeros(N)\n",
    "Kder = zeros(N)\n",
    "t[0] = t0\n",
    "K[0] = K0\n",
    "\n",
    "for i in range(N-1):\n",
    "    Kder[i] = k*K[i]\n",
    "    K[i+1] = K[i]+Kder[i]*dt\n",
    "    t[i+1]=t[i]+dt\n",
    "\n",
    "plot(t,K)"
   ]
  },
  {
   "cell_type": "markdown",
   "metadata": {},
   "source": [
    "#### 8.\n",
    "Dersom vi endrer tidsteget fra måneder til år, så vil modellen ikke stemme lenger, siden formeringsraten, k, er laget for å passe til måneder. Et par kaniner vil på et år bli til 1300, så dersom man endrer på tidsteget, så må man også finne en passende formeringsrate.\n",
    "\n",
    "#### 9.\n",
    "Grafen til K er en eksponentiell graf, og kan derfor skrives på Eulers metode slik: $K(t+1)=K+k*K$"
   ]
  },
  {
   "cell_type": "markdown",
   "metadata": {},
   "source": [
    "### Modell 2 Vekst med bæreevne:\n",
    "#### 1. \n",
    "Ved B(0) så vil mengden bakterier være lik mengden bakterier man legger i petrisskålen, siden de ikke har begynt å formere seg ved det 0. tidssteget.\n",
    "\n",
    "#### 2. \n",
    "Med bæreevne snakker man om hvor mange organismer omgivelsene makter å holde på. Faktorer som bestemmer bæreevnen er for eksempel matmuligheter og areal. Forskjellige organismer har ulik bæreevne.\n",
    "\n",
    "#### 3.\n",
    "Funksjonen er uleselig. Resten av oppgavene er ikke mulig å løse fra her."
   ]
  },
  {
   "cell_type": "markdown",
   "metadata": {},
   "source": [
    "### Modell 3 Rovdyr-byttedyr:\n",
    "\n",
    "#### 1.\n",
    "De ulike leddene i likningen til byttedyr betyr den ubegrensede vekstraten til byttedyret minus mengden byttedyr tatt av rovdyret. De ulike leddene i likningen til rovdyret betyr mengden byttedyr tilstede for rovdyret minus mengden rovdyr tilstede.\n",
    "\n",
    "#### 2.\n"
   ]
  },
  {
   "cell_type": "code",
   "execution_count": 121,
   "metadata": {},
   "outputs": [
    {
     "data": {
      "text/plain": [
       "[<matplotlib.lines.Line2D at 0x146915908>]"
      ]
     },
     "execution_count": 121,
     "metadata": {},
     "output_type": "execute_result"
    },
    {
     "data": {
      "image/png": "[encoded data removed]",
      "text/plain": [
       "<Figure size 432x288 with 1 Axes>"
      ]
     },
     "metadata": {},
     "output_type": "display_data"
    }
   ],
   "source": [
    "from pylab import *\n",
    "\n",
    "B0 = 100\n",
    "B = B0\n",
    "R0 = 100\n",
    "R = R0\n",
    "a = 0.25\n",
    "b = 0.002\n",
    "c = 0.1\n",
    "d = 0.001\n",
    "t0 = 0\n",
    "\n",
    "# Tidssteg:\n",
    "N = 100000\n",
    "tid = 1\n",
    "dt = tid/(N-1)\n",
    "\n",
    "# Matriser B:\n",
    "B = zeros(N)\n",
    "Bder = zeros(N)\n",
    "B[0] = B0\n",
    "\n",
    "# Matriser R:\n",
    "R = zeros(N)\n",
    "Rder = zeros(N)\n",
    "R[0] = R0\n",
    "\n",
    "# Matriser tid:\n",
    "t = zeros(N)\n",
    "t[0] = t0\n",
    "\n",
    "for i in range(N-1):\n",
    "    Bder[i] = a*B[i]-b*B[i]*R[i]\n",
    "    B[i+1] = B[i]+Bder[i]*dt\n",
    "    Rder[i] = c*B[i]*R[i]-d*R[i]\n",
    "    R[i+1] = R[i]+Rder[i]*dt\n",
    "    t[i+1]=t[i]+dt\n",
    "\n",
    "plot(t,B, color = 'navy')\n",
    "plot(t,R, color = 'firebrick')"
   ]
  },
  {
   "cell_type": "markdown",
   "metadata": {},
   "source": [
    "Over har vi forsøk 1. Fra funksjonen så skal det være mulig å få en syklisk graf, siden man ser at de avhenger av hverandre. Det her er ikke en syklisk graf."
   ]
  },
  {
   "cell_type": "code",
   "execution_count": 127,
   "metadata": {},
   "outputs": [
    {
     "data": {
      "text/plain": [
       "[<matplotlib.lines.Line2D at 0x1489ab438>]"
      ]
     },
     "execution_count": 127,
     "metadata": {},
     "output_type": "execute_result"
    },
    {
     "data": {
      "image/png": "[encoded data removed]",
      "text/plain": [
       "<Figure size 432x288 with 1 Axes>"
      ]
     },
     "metadata": {},
     "output_type": "display_data"
    }
   ],
   "source": [
    "from pylab import *\n",
    "\n",
    "B0 = 100\n",
    "B = B0\n",
    "R0 = 100\n",
    "R = R0\n",
    "a = 0.25\n",
    "b = 0.002\n",
    "c = 0.1\n",
    "d = 0.001\n",
    "t0 = 0\n",
    "\n",
    "# Tidssteg:\n",
    "N = 100000\n",
    "tid = 1\n",
    "dt = tid/(N-1)\n",
    "\n",
    "# Matriser B:\n",
    "B = zeros(N)\n",
    "Bder = zeros(N)\n",
    "B[0] = B0\n",
    "\n",
    "# Matriser R:\n",
    "R = zeros(N)\n",
    "Rder = zeros(N)\n",
    "R[0] = R0\n",
    "\n",
    "# Matriser tid:\n",
    "t = zeros(N)\n",
    "t[0] = t0\n",
    "\n",
    "for i in range(N-1):\n",
    "    R[i] = (a*(Rder[i]+d*R[i]/c*R[i])-Bder[i])/b*B[i]\n",
    "    t[i+1]=t[i]+dt\n",
    "\n",
    "plot(t,B, color = 'navy')\n",
    "plot(t,R, color = 'firebrick')"
   ]
  },
  {
   "cell_type": "markdown",
   "metadata": {},
   "source": [
    "Dette er forsøk 2, som ga veldig lite mening. "
   ]
  },
  {
   "cell_type": "code",
   "execution_count": 123,
   "metadata": {},
   "outputs": [
    {
     "name": "stderr",
     "output_type": "stream",
     "text": [
      "/anaconda3/lib/python3.6/site-packages/ipykernel_launcher.py:38: RuntimeWarning: overflow encountered in double_scalars\n",
      "/anaconda3/lib/python3.6/site-packages/ipykernel_launcher.py:34: RuntimeWarning: invalid value encountered in double_scalars\n",
      "/anaconda3/lib/python3.6/site-packages/matplotlib/axes/_base.py:2508: RuntimeWarning: overflow encountered in double_scalars\n",
      "  x1t += delta\n"
     ]
    },
    {
     "data": {
      "text/plain": [
       "[<matplotlib.lines.Line2D at 0x147a55a58>]"
      ]
     },
     "execution_count": 123,
     "metadata": {},
     "output_type": "execute_result"
    },
    {
     "data": {
      "image/png": "[encoded data removed]",
      "text/plain": [
       "<Figure size 432x288 with 1 Axes>"
      ]
     },
     "metadata": {},
     "output_type": "display_data"
    }
   ],
   "source": [
    "from pylab import *\n",
    "\n",
    "B0 = 100\n",
    "B = B0\n",
    "R0 = 100\n",
    "R = R0\n",
    "a = 0.25\n",
    "b = 0.002\n",
    "c = 0.1\n",
    "d = 0.001\n",
    "t0 = 0\n",
    "\n",
    "# Tidssteg:\n",
    "N = 100000\n",
    "tid = 1\n",
    "# dt = tid/(N-1)\n",
    "dt = 1\n",
    "\n",
    "# Matriser B:\n",
    "B = zeros(N)\n",
    "Bder = zeros(N)\n",
    "B[0] = B0\n",
    "\n",
    "# Matriser R:\n",
    "R = zeros(N)\n",
    "Rder = zeros(N)\n",
    "R[0] = R0\n",
    "\n",
    "# Matriser tid:\n",
    "t = zeros(N)\n",
    "t[0] = t0\n",
    "\n",
    "for i in range(N-1):\n",
    "    Bder[i] = a*B[i]-b*B[i]*R[i]\n",
    "    #B[i+dt] = (Bder[i]/(a-b*R[i]))+Bder[i]*dt\n",
    "    B[i] = B[i-dt]+Bder[i]*dt\n",
    "    Rder[i] = c*B[i]*R[i]-d*R[i]\n",
    "    R[i+dt] = R[i]+Rder[i]*dt\n",
    "    t[i+dt]=t[i]+dt\n",
    "\n",
    "plot(t,B, color = 'navy')\n",
    "plot(t,R, color = 'firebrick')"
   ]
  },
  {
   "cell_type": "markdown",
   "metadata": {},
   "source": [
    "Forsøk 3 er like lite forståelig, (egentlig mere...) enn forrige forsøk."
   ]
  },
  {
   "cell_type": "code",
   "execution_count": 124,
   "metadata": {},
   "outputs": [
    {
     "data": {
      "text/plain": [
       "[<matplotlib.lines.Line2D at 0x1476f6940>]"
      ]
     },
     "execution_count": 124,
     "metadata": {},
     "output_type": "execute_result"
    },
    {
     "data": {
      "image/png": "[encoded data removed]",
      "text/plain": [
       "<Figure size 432x288 with 1 Axes>"
      ]
     },
     "metadata": {},
     "output_type": "display_data"
    }
   ],
   "source": [
    "from pylab import *\n",
    "\n",
    "B0 = 100\n",
    "# B = B0\n",
    "K = 3\n",
    "k = 2\n",
    "R0 = 100\n",
    "# R = R0\n",
    "a = 0.25\n",
    "b = 0.002\n",
    "c = 0.1\n",
    "d = 0.001\n",
    "t0 = 0\n",
    "\n",
    "# Tidssteg:\n",
    "N = 1000\n",
    "tid = 1\n",
    "dt = tid/(N-1)\n",
    "# dt = 1\n",
    "\n",
    "# Matriser B:\n",
    "B = zeros(N)\n",
    "Bder = zeros(N)\n",
    "B[0] = B0\n",
    "\n",
    "# Matriser R:\n",
    "R = zeros(N)\n",
    "Rder = zeros(N)\n",
    "R[0] = R0\n",
    "\n",
    "# Matriser tid:\n",
    "t = zeros(N)\n",
    "t[0] = t0\n",
    "\n",
    "for i in range(N-1):\n",
    "    Bder[i] = (a-b*R[i])*B[i]\n",
    "    B[i+1] = B[i]+Bder[i]*dt\n",
    "    Rder[i] = c*B[i]*R[i]-d*R[i]\n",
    "    R[i+1] = R[i]+Rder[i]*dt\n",
    "    # B[i] = B[i-dt]+Bder[i]*dt\n",
    "    # Rder[i] = c*B[i]*R[i]-d*R[i]\n",
    "    # R[i+dt] = R[i]+Rder[i]*dt\n",
    "    t[i+1]=t[i]+dt\n",
    "\n",
    "plot(t,B, color = 'navy')\n",
    "plot(t,R, color = 'firebrick')"
   ]
  },
  {
   "cell_type": "markdown",
   "metadata": {},
   "source": [
    ".... Vi er tilbake på start.... "
   ]
  },
  {
   "cell_type": "code",
   "execution_count": null,
   "metadata": {},
   "outputs": [],
   "source": []
  }
 ],
 "metadata": {
  "kernelspec": {
   "display_name": "Python 3",
   "language": "python",
   "name": "python3"
  },
  "language_info": {
   "codemirror_mode": {
    "name": "ipython",
    "version": 3
   },
   "file_extension": ".py",
   "mimetype": "text/x-python",
   "name": "python",
   "nbconvert_exporter": "python",
   "pygments_lexer": "ipython3",
   "version": "3.6.5"
  }
 },
 "nbformat": 4,
 "nbformat_minor": 2
}
